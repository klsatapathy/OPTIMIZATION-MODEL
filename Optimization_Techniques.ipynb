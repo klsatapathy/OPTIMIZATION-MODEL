{
  "nbformat": 4,
  "nbformat_minor": 0,
  "metadata": {
    "colab": {
      "provenance": []
    },
    "kernelspec": {
      "name": "python3",
      "display_name": "Python 3"
    },
    "language_info": {
      "name": "python"
    }
  },
  "cells": [
    {
      "cell_type": "code",
      "execution_count": 3,
      "metadata": {
        "id": "oSV6dycvOs3R"
      },
      "outputs": [],
      "source": [
        "# !pip install pulp numpy pandas"
      ]
    },
    {
      "cell_type": "code",
      "source": [
        "import pulp\n",
        "import numpy as np\n",
        "import pandas as pd\n",
        "from pulp import *"
      ],
      "metadata": {
        "id": "APT4xYyhPGaj"
      },
      "execution_count": 2,
      "outputs": []
    },
    {
      "cell_type": "code",
      "source": [
        "# Create simulated dataset\n",
        "np.random.seed(42)\n",
        "data = {\n",
        "    'Channel': ['TV', 'Radio', 'Digital', 'Print', 'Outdoor'],\n",
        "    'Min_Budget': [10000, 5000, 8000, 3000, 2000],\n",
        "    'Max_Budget': [50000, 20000, 40000, 15000, 10000],\n",
        "    'ROI': [2.5, 1.8, 3.2, 1.5, 1.2],  # Sales generated per $1 spent\n",
        "    'Impact_Score': [0.9, 0.6, 0.8, 0.5, 0.4]  # Brand impact metric\n",
        "}"
      ],
      "metadata": {
        "id": "N3kJl7mUPIvP"
      },
      "execution_count": 5,
      "outputs": []
    },
    {
      "cell_type": "code",
      "source": [
        "df = pd.DataFrame(data)\n",
        "total_budget = 100000"
      ],
      "metadata": {
        "id": "h9S3pRQMPg57"
      },
      "execution_count": 6,
      "outputs": []
    },
    {
      "cell_type": "code",
      "source": [
        "# Create the optimization problem\n",
        "prob = LpProblem(\"Marketing_Mix_Optimization\", LpMaximize)"
      ],
      "metadata": {
        "id": "SK3OBpT-PoIB"
      },
      "execution_count": 7,
      "outputs": []
    },
    {
      "cell_type": "code",
      "source": [
        "# Create decision variables\n",
        "channels = list(df['Channel'])\n",
        "x = LpVariable.dicts(\"Budget\", channels, lowBound=0)"
      ],
      "metadata": {
        "id": "LHQIF0huPtl8"
      },
      "execution_count": 8,
      "outputs": []
    },
    {
      "cell_type": "code",
      "source": [
        "# Objective function: Maximize total sales\n",
        "prob += lpSum([df.loc[df['Channel']==c, 'ROI'].values[0] * x[c] for c in channels])"
      ],
      "metadata": {
        "id": "VF25NAlSPx4l"
      },
      "execution_count": 9,
      "outputs": []
    },
    {
      "cell_type": "code",
      "source": [
        "# Constraints\n",
        "# 1. Total budget constraint\n",
        "prob += lpSum([x[c] for c in channels]) <= total_budget"
      ],
      "metadata": {
        "id": "MnilVqw5P10Y"
      },
      "execution_count": 10,
      "outputs": []
    },
    {
      "cell_type": "code",
      "source": [
        "# 2. Channel-specific constraints\n",
        "for c in channels:\n",
        "    min_b = df.loc[df['Channel']==c, 'Min_Budget'].values[0]\n",
        "    max_b = df.loc[df['Channel']==c, 'Max_Budget'].values[0]\n",
        "    prob += x[c] >= min_b\n",
        "    prob += x[c] <= max_b"
      ],
      "metadata": {
        "id": "Eb3eUinpP5qx"
      },
      "execution_count": 11,
      "outputs": []
    },
    {
      "cell_type": "code",
      "source": [
        "# 3. Brand impact constraint (weighted average >= 0.7)\n",
        "prob += lpSum([df.loc[df['Channel']==c, 'Impact_Score'].values[0] * x[c] for c in channels]) / total_budget >= 0.7"
      ],
      "metadata": {
        "id": "yzJftESZP8Ka"
      },
      "execution_count": 12,
      "outputs": []
    },
    {
      "cell_type": "code",
      "source": [
        "# Solve the problem\n",
        "prob.solve()"
      ],
      "metadata": {
        "colab": {
          "base_uri": "https://localhost:8080/"
        },
        "id": "ZVDKrzQbP-a8",
        "outputId": "a214713e-ebab-4124-c9c3-921532b39d56"
      },
      "execution_count": 13,
      "outputs": [
        {
          "output_type": "execute_result",
          "data": {
            "text/plain": [
              "1"
            ]
          },
          "metadata": {},
          "execution_count": 13
        }
      ]
    },
    {
      "cell_type": "code",
      "source": [
        "# Display results\n",
        "print(\"Status:\", LpStatus[prob.status])\n",
        "print(\"\\nOptimal Budget Allocation:\")\n",
        "for c in channels:\n",
        "    print(f\"{c}: ${value(x[c]):,.2f}\")\n",
        "\n",
        "print(f\"\\nTotal Budget Allocated: ${sum(value(x[c]) for c in channels):,.2f}\")\n",
        "print(f\"Projected Sales: ${value(prob.objective):,.2f}\")\n",
        "\n",
        "# Calculate ROI\n",
        "print(f\"\\nROI Analysis:\")\n",
        "for c in channels:\n",
        "    spend = value(x[c])\n",
        "    roi = df.loc[df['Channel']==c, 'ROI'].values[0]\n",
        "    print(f\"{c}: Every $1 → ${roi:.2f} sales (Total: ${spend*roi:,.2f})\")\n",
        "\n",
        "# Shadow price analysis\n",
        "print(\"\\nConstraint Sensitivity (Shadow Prices):\")\n",
        "for name, constraint in prob.constraints.items():\n",
        "    print(f\"{name}: {constraint.pi:.4f} (Slack: {constraint.slack:.2f})\")"
      ],
      "metadata": {
        "colab": {
          "base_uri": "https://localhost:8080/"
        },
        "id": "wjAjCEX7QBKs",
        "outputId": "4e4b7cc6-f597-445e-cd0d-819c518d2b43"
      },
      "execution_count": 14,
      "outputs": [
        {
          "output_type": "stream",
          "name": "stdout",
          "text": [
            "Status: Optimal\n",
            "\n",
            "Optimal Budget Allocation:\n",
            "TV: $50,000.00\n",
            "Radio: $5,000.00\n",
            "Digital: $40,000.00\n",
            "Print: $3,000.00\n",
            "Outdoor: $2,000.00\n",
            "\n",
            "Total Budget Allocated: $100,000.00\n",
            "Projected Sales: $268,900.00\n",
            "\n",
            "ROI Analysis:\n",
            "TV: Every $1 → $2.50 sales (Total: $125,000.00)\n",
            "Radio: Every $1 → $1.80 sales (Total: $9,000.00)\n",
            "Digital: Every $1 → $3.20 sales (Total: $128,000.00)\n",
            "Print: Every $1 → $1.50 sales (Total: $4,500.00)\n",
            "Outdoor: Every $1 → $1.20 sales (Total: $2,400.00)\n",
            "\n",
            "Constraint Sensitivity (Shadow Prices):\n",
            "_C1: 1.8000 (Slack: -0.00)\n",
            "_C2: -0.0000 (Slack: -40000.00)\n",
            "_C3: 0.7000 (Slack: -0.00)\n",
            "_C4: -0.0000 (Slack: -0.00)\n",
            "_C5: -0.0000 (Slack: 15000.00)\n",
            "_C6: -0.0000 (Slack: -32000.00)\n",
            "_C7: 1.4000 (Slack: -0.00)\n",
            "_C8: -0.3000 (Slack: -0.00)\n",
            "_C9: -0.0000 (Slack: 12000.00)\n",
            "_C10: -0.6000 (Slack: -0.00)\n",
            "_C11: -0.0000 (Slack: 8000.00)\n",
            "_C12: -0.0000 (Slack: -0.12)\n"
          ]
        }
      ]
    },
    {
      "cell_type": "code",
      "source": [],
      "metadata": {
        "id": "milnkcZuQDGm"
      },
      "execution_count": null,
      "outputs": []
    }
  ]
}